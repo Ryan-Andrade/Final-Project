{
 "cells": [
  {
   "cell_type": "code",
   "execution_count": null,
   "metadata": {},
   "outputs": [],
   "source": [
    "# Dependencies\n",
    "import pandas as pd\n",
    "import numpy as np\n",
    "import yfinance as yf\n",
    "import datetime as dt\n",
    "from app import *"
   ]
  },
  {
   "cell_type": "code",
   "execution_count": null,
   "metadata": {},
   "outputs": [],
   "source": [
    "# List of stocks to be analyzed\n",
    "tickers = [test()]\n",
    "\n",
    "# A function to download data from Yahoo Finance and manipulate it\n",
    "def downloadStockData(tickers: list[str]):\n",
    "    for ticker in tickers:\n",
    "        data = yf.download(ticker, '2021-01-01', dt.datetime.date(dt.datetime.now()).isoformat(), interval='1d')\n",
    "        data.drop(['Adj Close', 'Volume'], axis=1, inplace=True)\n",
    "        \n",
    "        data['Day Result'] = np.where(data['Close'] > data['Open'], 1, 0)\n",
    "        data.to_csv(f'Data/{ticker}.csv')"
   ]
  }
 ],
 "metadata": {
  "interpreter": {
   "hash": "86b75c86d87c7ec2a28669fd87f88ef86b909904cca91ef4d6766d0b5a125eee"
  },
  "kernelspec": {
   "display_name": "Python 3.9.12 ('PythonData')",
   "language": "python",
   "name": "python3"
  },
  "language_info": {
   "codemirror_mode": {
    "name": "ipython",
    "version": 3
   },
   "file_extension": ".py",
   "mimetype": "text/x-python",
   "name": "python",
   "nbconvert_exporter": "python",
   "pygments_lexer": "ipython3",
   "version": "3.9.12"
  },
  "orig_nbformat": 4
 },
 "nbformat": 4,
 "nbformat_minor": 2
}
