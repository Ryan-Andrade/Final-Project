{
 "cells": [
  {
   "cell_type": "code",
   "execution_count": 1,
   "metadata": {},
   "outputs": [],
   "source": [
    "# Dependencies\n",
    "import pandas as pd\n",
    "import numpy as np\n",
    "import yfinance as yf\n",
    "import datetime as dt\n",
    "import talib as ta"
   ]
  },
  {
   "cell_type": "code",
   "execution_count": 38,
   "metadata": {},
   "outputs": [],
   "source": [
    "# List of stocks to be analyzed\n",
    "tickers = ['AMPY', 'BEP', 'CMS', 'CVE', 'EPD', 'HASI', 'NEE', 'OXY', 'PAA', 'SPWR']\n",
    "\n",
    "# A function to download data from Yahoo Finance and manipulate it\n",
    "def downloadStockData(tickers: list[str]):\n",
    "    for ticker in tickers:\n",
    "        data = yf.download(ticker, '2021-01-01', dt.datetime.date(dt.datetime.now()).isoformat(), interval='1d')\n",
    "        data.drop(['Adj Close', 'Volume'], axis=1, inplace=True)\n",
    "        \n",
    "        data['Day Result'] = np.where(data['Close'] > data['Open'], 1, 0)\n",
    "        data.to_csv(f'Data/{ticker}.csv')"
   ]
  },
  {
   "cell_type": "code",
   "execution_count": null,
   "metadata": {},
   "outputs": [],
   "source": []
  }
 ],
 "metadata": {
  "interpreter": {
   "hash": "7b7b420d20f2322f65523a2f8e277c8414018eeb5ae0cd072ccb004c1cae25f0"
  },
  "kernelspec": {
   "display_name": "Python 3.10.1 64-bit",
   "language": "python",
   "name": "python3"
  },
  "language_info": {
   "codemirror_mode": {
    "name": "ipython",
    "version": 3
   },
   "file_extension": ".py",
   "mimetype": "text/x-python",
   "name": "python",
   "nbconvert_exporter": "python",
   "pygments_lexer": "ipython3",
   "version": "3.10.1"
  },
  "orig_nbformat": 4
 },
 "nbformat": 4,
 "nbformat_minor": 2
}
