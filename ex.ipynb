{
 "cells": [
  {
   "cell_type": "code",
   "execution_count": 2,
   "metadata": {},
   "outputs": [],
   "source": [
    "# Dependencies\n",
    "import numpy as np\n",
    "import pandas as pd\n",
    "import yfinance as yf\n",
    "import datetime as dt\n",
    "from pymongo import MongoClient\n",
    "from collections import Counter\n",
    "from sklearn.linear_model import LogisticRegression\n",
    "from sklearn.preprocessing import LabelEncoder\n",
    "from sklearn.preprocessing import StandardScaler\n",
    "from sklearn.model_selection import train_test_split\n",
    "from sklearn.metrics import balanced_accuracy_score\n",
    "from sklearn.metrics import confusion_matrix\n",
    "from imblearn.over_sampling import RandomOverSampler\n",
    "from imblearn.metrics import classification_report_imbalanced\n",
    "\n",
    "client = MongoClient(\"mongodb://localhost:27017/\")\n",
    "db = client.stock_prediction\n",
    "collection = db.prediction\n",
    "document = collection.find_one()\n",
    "ticker = document['ticker']\n",
    "\n",
    "def preprocessing():\n",
    "    data = yf.download(ticker, '2021-01-01', dt.datetime.date(dt.datetime.now()).isoformat(), interval='1d')\n",
    "    data.drop(['Adj Close', 'Volume'], axis=1, inplace=True)    \n",
    "    data['Day Result'] = np.where(data['Close'] > data['Open'], 1, 0)\n",
    "    df = pd.DataFrame(data)\n",
    "    df.drop(columns='Close', inplace=True)\n",
    "    # Encode the data\n",
    "    le = LabelEncoder()\n",
    "    df['Open'] = le.fit_transform(df['Open'])\n",
    "    df['High'] = le.fit_transform(df['High'])\n",
    "    df['Low'] = le.fit_transform(df['Low'])\n",
    "    # Split data into training and testing sets\n",
    "    X = df.drop(['Day Result'], axis=1)\n",
    "    y = df['Day Result'].values\n",
    "    # Build the logistic regression model\n",
    "    X_train, X_test, y_train, y_test = train_test_split(X, y, random_state=0)\n",
    "    # Scale and normalize the data\n",
    "    scaler = StandardScaler()\n",
    "    X_train_scaled = scaler.fit_transform(X_train)\n",
    "    X_test_scaled = scaler.fit_transform(X_test)\n",
    "    # Naive Random Oversampling\n",
    "    ros = RandomOverSampler(random_state=0)\n",
    "    X_res, y_res = ros.fit_resample(X_train_scaled, y_train)\n",
    "    # Train the logistic regression model using resampled data\n",
    "    logreg = LogisticRegression(solver='lbfgs', random_state=1)\n",
    "    logreg.fit(X_res, y_res)\n",
    "    y_pred = logreg.predict(X_test)\n",
    "    return balanced_accuracy_score(y_test, y_pred) "
   ]
  },
  {
   "cell_type": "code",
   "execution_count": 3,
   "metadata": {},
   "outputs": [
    {
     "name": "stdout",
     "output_type": "stream",
     "text": [
      "[*********************100%***********************]  1 of 1 completed\n"
     ]
    },
    {
     "name": "stderr",
     "output_type": "stream",
     "text": [
      "/Users/ryanandrade/miniforge3/envs/DataScience/lib/python3.9/site-packages/sklearn/base.py:443: UserWarning: X has feature names, but LogisticRegression was fitted without feature names\n",
      "  warnings.warn(\n"
     ]
    },
    {
     "data": {
      "text/plain": [
       "0.7489395546129374"
      ]
     },
     "execution_count": 3,
     "metadata": {},
     "output_type": "execute_result"
    }
   ],
   "source": [
    "preprocessing()"
   ]
  }
 ],
 "metadata": {
  "interpreter": {
   "hash": "55685f7c140e4d832ec95a8d2263edc288eebc5975bbc524772bac1a0238a896"
  },
  "kernelspec": {
   "display_name": "Python 3.9.12 ('DataScience')",
   "language": "python",
   "name": "python3"
  },
  "language_info": {
   "codemirror_mode": {
    "name": "ipython",
    "version": 3
   },
   "file_extension": ".py",
   "mimetype": "text/x-python",
   "name": "python",
   "nbconvert_exporter": "python",
   "pygments_lexer": "ipython3",
   "version": "3.9.12"
  },
  "orig_nbformat": 4
 },
 "nbformat": 4,
 "nbformat_minor": 2
}
