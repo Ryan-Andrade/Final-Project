{
 "cells": [
  {
   "cell_type": "code",
   "execution_count": 78,
   "metadata": {},
   "outputs": [],
   "source": [
    "# Dependencies\n",
    "import numpy as np\n",
    "import pandas as pd\n",
    "import yfinance as yf\n",
    "import datetime as dt\n",
    "from datetime import timedelta\n",
    "from pymongo import MongoClient\n",
    "from sklearn.linear_model import LogisticRegression\n",
    "from sklearn.preprocessing import LabelEncoder\n",
    "from sklearn.preprocessing import StandardScaler\n",
    "from sklearn.model_selection import train_test_split\n",
    "from sklearn.metrics import balanced_accuracy_score\n",
    "from sklearn.metrics import confusion_matrix\n",
    "from imblearn.over_sampling import RandomOverSampler\n",
    "from imblearn.metrics import classification_report_imbalanced\n",
    "le = LabelEncoder()\n",
    "scaler = StandardScaler()"
   ]
  },
  {
   "cell_type": "code",
   "execution_count": 79,
   "metadata": {},
   "outputs": [],
   "source": [
    "def mongo_connection():\n",
    "    client = MongoClient(\"mongodb://localhost:27017/\")\n",
    "    db = client.stock_prediction\n",
    "    collection = db.prediction\n",
    "    document = collection.find_one()\n",
    "    ticker = document['ticker']\n",
    "    return ticker"
   ]
  },
  {
   "cell_type": "code",
   "execution_count": 80,
   "metadata": {},
   "outputs": [],
   "source": [
    "def download_data():\n",
    "    ticker = mongo_connection()\n",
    "    yesterday = dt.datetime.date(dt.datetime.now() - timedelta(days= 1)).isoformat()\n",
    "    data = yf.download(ticker, '2021-01-01', yesterday, interval='1d')\n",
    "    data.drop(['Adj Close', 'Volume'], axis=1, inplace=True)    \n",
    "    data['Day Result'] = np.where(data['Close'] > data['Open'], 1, 0)\n",
    "    df = pd.DataFrame(data)\n",
    "    df.drop(columns='Close', inplace=True)\n",
    "    return df"
   ]
  },
  {
   "cell_type": "code",
   "execution_count": 81,
   "metadata": {},
   "outputs": [],
   "source": [
    "def preprocessing():\n",
    "    df = download_data()\n",
    "    # Encode the data\n",
    "    df['Open'] = le.fit_transform(df['Open'])\n",
    "    df['High'] = le.fit_transform(df['High'])\n",
    "    df['Low'] = le.fit_transform(df['Low'])\n",
    "    # Split data into training and testing sets\n",
    "    X = df.drop(['Day Result'], axis=1)\n",
    "    y = df['Day Result'].values\n",
    "    # Build the logistic regression model\n",
    "    X_train, X_test, y_train, y_test = train_test_split(X, y, random_state=0)\n",
    "    # Scale and normalize the data\n",
    "    X_train_scaled = scaler.fit_transform(X_train)\n",
    "    X_test_scaled = scaler.fit_transform(X_test)\n",
    "    return X_train_scaled, X_test_scaled, y_train, y_test"
   ]
  },
  {
   "cell_type": "code",
   "execution_count": 82,
   "metadata": {},
   "outputs": [],
   "source": [
    "def Naive_Random_Oversampling(test):\n",
    "    X_train_scaled, X_test_scaled, y_train, y_test = preprocessing()\n",
    "    # Naive Random Oversampling\n",
    "    ros = RandomOverSampler(random_state=0)\n",
    "    X_res, y_res = ros.fit_resample(X_train_scaled, y_train)\n",
    "    # Train the logistic regression model using resampled data\n",
    "    logreg = LogisticRegression(solver='lbfgs', random_state=1)\n",
    "    logreg.fit(X_res, y_res)\n",
    "    y_pred = logreg.predict(X_test_scaled)\n",
    "    accuracy_score = balanced_accuracy_score(y_test, y_pred)\n",
    "    prediction = logreg.predict(test)\n",
    "    return prediction, accuracy_score"
   ]
  },
  {
   "cell_type": "code",
   "execution_count": 83,
   "metadata": {},
   "outputs": [],
   "source": [
    "def test_data():\n",
    "    ticker = mongo_connection()\n",
    "    today = dt.datetime.date(dt.datetime.now()).isoformat()\n",
    "    test_data = yf.download(ticker, start= today)\n",
    "    cleaned_test_data = test_data.drop(['Volume', 'Close', 'Adj Close'], axis=1)\n",
    "    cleaned_test_data['Open'] = le.fit_transform(cleaned_test_data['Open'])\n",
    "    cleaned_test_data['High'] = le.fit_transform(cleaned_test_data['High'])\n",
    "    cleaned_test_data['Low'] = le.fit_transform(cleaned_test_data['Low'])\n",
    "    cleaned_scaled_test_data = scaler.fit_transform(cleaned_test_data)\n",
    "    return cleaned_scaled_test_data"
   ]
  },
  {
   "cell_type": "code",
   "execution_count": 84,
   "metadata": {},
   "outputs": [],
   "source": [
    "def machine_learning():\n",
    "    ticker = mongo_connection()\n",
    "    test = test_data()\n",
    "    prediction, accuracy_score = Naive_Random_Oversampling(test)\n",
    "    loss = 'The closing price will be less than the opening price'\n",
    "    gain = 'The closing price will be greater than the opening price'\n",
    "    direction = loss if prediction == 0 else gain\n",
    "    data = {\"accuracy_score\":accuracy_score, \"ticker\": ticker, \"prediction\": direction}\n",
    "    return data"
   ]
  },
  {
   "cell_type": "code",
   "execution_count": 85,
   "metadata": {},
   "outputs": [
    {
     "name": "stdout",
     "output_type": "stream",
     "text": [
      "[*********************100%***********************]  1 of 1 completed\n",
      "[*********************100%***********************]  1 of 1 completed\n"
     ]
    },
    {
     "data": {
      "text/plain": [
       "{'accuracy_score': 0.7825396825396825,\n",
       " 'ticker': 'OXY',\n",
       " 'prediction': 'The closing price will be less than the opening price'}"
      ]
     },
     "execution_count": 85,
     "metadata": {},
     "output_type": "execute_result"
    }
   ],
   "source": [
    "machine_learning()"
   ]
  }
 ],
 "metadata": {
  "interpreter": {
   "hash": "55685f7c140e4d832ec95a8d2263edc288eebc5975bbc524772bac1a0238a896"
  },
  "kernelspec": {
   "display_name": "Python 3.9.12 ('DataScience')",
   "language": "python",
   "name": "python3"
  },
  "language_info": {
   "codemirror_mode": {
    "name": "ipython",
    "version": 3
   },
   "file_extension": ".py",
   "mimetype": "text/x-python",
   "name": "python",
   "nbconvert_exporter": "python",
   "pygments_lexer": "ipython3",
   "version": "3.9.12"
  },
  "orig_nbformat": 4
 },
 "nbformat": 4,
 "nbformat_minor": 2
}
