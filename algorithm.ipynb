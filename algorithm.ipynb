{
 "cells": [
  {
   "cell_type": "code",
   "execution_count": 193,
   "metadata": {},
   "outputs": [],
   "source": [
    "# Dependencies\n",
    "import numpy as np\n",
    "import pandas as pd\n",
    "import yfinance as yf\n",
    "import datetime as dt\n",
    "from pymongo import MongoClient\n",
    "from sklearn.linear_model import LogisticRegression\n",
    "from sklearn.preprocessing import LabelEncoder\n",
    "from sklearn.preprocessing import StandardScaler\n",
    "from sklearn.model_selection import train_test_split\n",
    "from sklearn.metrics import balanced_accuracy_score\n",
    "from imblearn.over_sampling import RandomOverSampler\n",
    "from imblearn.over_sampling import SMOTE\n",
    "from imblearn.under_sampling import RandomUnderSampler\n",
    "from imblearn.combine import SMOTEENN\n",
    "from imblearn.ensemble import BalancedRandomForestClassifier\n",
    "from imblearn.ensemble import EasyEnsembleClassifier\n",
    "le = LabelEncoder()\n",
    "scaler = StandardScaler()"
   ]
  },
  {
   "cell_type": "code",
   "execution_count": 194,
   "metadata": {},
   "outputs": [],
   "source": [
    "def mongo_connection():\n",
    "    client = MongoClient(\"mongodb://localhost:27017/\")\n",
    "    db = client.stock_prediction\n",
    "    collection = db.prediction\n",
    "    document = collection.find_one()\n",
    "    ticker = document['ticker']\n",
    "    algorithm = document['algorithm']\n",
    "    return ticker, algorithm"
   ]
  },
  {
   "cell_type": "code",
   "execution_count": 195,
   "metadata": {},
   "outputs": [],
   "source": [
    "def download_data():\n",
    "    ticker, algorithm = mongo_connection()\n",
    "    ticker = yf.Ticker(ticker)\n",
    "    data = ticker.history(period='max')\n",
    "    data = pd.DataFrame(data)\n",
    "    data = data[:-1]\n",
    "    data['Day Result'] = np.where(data['Close'] > data['Open'], 1, 0)\n",
    "    data.drop(['Volume', 'Close'], axis=1, inplace=True)    \n",
    "    return data"
   ]
  },
  {
   "cell_type": "code",
   "execution_count": 196,
   "metadata": {},
   "outputs": [],
   "source": [
    "def preprocessing():\n",
    "    data = download_data()\n",
    "    # Encode the data\n",
    "    data['Open'] = le.fit_transform(data['Open'])\n",
    "    data['High'] = le.fit_transform(data['High'])\n",
    "    data['Low'] = le.fit_transform(data['Low'])\n",
    "    # Split data into training and testing sets\n",
    "    X = data.drop(['Day Result'], axis=1)\n",
    "    y = data['Day Result'].values\n",
    "    # Build the logistic regression model\n",
    "    X_train, X_test, y_train, y_test = train_test_split(X, y, random_state=0)\n",
    "    # Scale and normalize the data\n",
    "    X_train_scaled = scaler.fit_transform(X_train)\n",
    "    X_test_scaled = scaler.fit_transform(X_test)\n",
    "    return X_train_scaled, X_test_scaled, X_train, y_train, y_test, X, y"
   ]
  },
  {
   "cell_type": "code",
   "execution_count": 197,
   "metadata": {},
   "outputs": [],
   "source": [
    "def Naive_Random_Oversampling(test):\n",
    "    X_train_scaled, X_test_scaled, X_train, y_train, y_test = preprocessing()\n",
    "    # Naive Random Oversampling\n",
    "    ros = RandomOverSampler(random_state=0)\n",
    "    X_res, y_res = ros.fit_resample(X_train_scaled, y_train)\n",
    "    # Train the logistic regression model using resampled data\n",
    "    logreg = LogisticRegression(solver='lbfgs', random_state=1)\n",
    "    logreg.fit(X_res, y_res)\n",
    "    y_pred = logreg.predict(X_test_scaled)\n",
    "    accuracy_score = balanced_accuracy_score(y_test, y_pred)\n",
    "    prediction = logreg.predict(test)\n",
    "    return prediction, accuracy_score"
   ]
  },
  {
   "cell_type": "code",
   "execution_count": 198,
   "metadata": {},
   "outputs": [],
   "source": [
    "def SMOTE_Oversampling(test):\n",
    "    X_train_scaled, X_test_scaled, X_train, y_train, y_test = preprocessing()\n",
    "    # Resample the training data with SMOTE\n",
    "    X_res, y_res = SMOTE(random_state=1, sampling_strategy='auto').fit_resample(X_train, y_train)\n",
    "    # Train the logistic regression model using resampled data\n",
    "    logreg = LogisticRegression(solver='lbfgs', random_state=1)\n",
    "    logreg.fit(X_res, y_res)\n",
    "    y_pred = logreg.predict(X_test_scaled)\n",
    "    accuracy_score = balanced_accuracy_score(y_test, y_pred)\n",
    "    prediction = logreg.predict(test)\n",
    "    return prediction, accuracy_score"
   ]
  },
  {
   "cell_type": "code",
   "execution_count": 199,
   "metadata": {},
   "outputs": [],
   "source": [
    "def Cluster_Centroids_Undersampling(test):\n",
    "    X_train_scaled, X_test_scaled, X_train, y_train, y_test = preprocessing()\n",
    "    rus = RandomUnderSampler(random_state=1)\n",
    "    X_res, y_res = rus.fit_resample(X_train, y_train)\n",
    "    # Train the logistic regression model using resampled data\n",
    "    logreg = LogisticRegression(solver='lbfgs', random_state=1)\n",
    "    logreg.fit(X_res, y_res)\n",
    "    y_pred = logreg.predict(X_test_scaled)\n",
    "    accuracy_score = balanced_accuracy_score(y_test, y_pred)\n",
    "    prediction = logreg.predict(test)\n",
    "    return prediction, accuracy_score"
   ]
  },
  {
   "cell_type": "code",
   "execution_count": 200,
   "metadata": {},
   "outputs": [],
   "source": [
    "def SMOTE_ENN(test):\n",
    "    X_train_scaled, X_test_scaled, X_train, y_train, y_test, X, y = preprocessing()\n",
    "    smote_enn = SMOTEENN(random_state=1)\n",
    "    X_res, y_res = smote_enn.fit_resample(X, y)\n",
    "    # Train the logistic regression model using resampled data\n",
    "    logreg = LogisticRegression(solver='lbfgs', random_state=1)\n",
    "    logreg.fit(X_res, y_res)\n",
    "    y_pred = logreg.predict(X_test_scaled)\n",
    "    accuracy_score = balanced_accuracy_score(y_test, y_pred)\n",
    "    prediction = logreg.predict(test)\n",
    "    return prediction, accuracy_score"
   ]
  },
  {
   "cell_type": "code",
   "execution_count": 201,
   "metadata": {},
   "outputs": [],
   "source": [
    "def Balanced_Random_Forest_Classifier(test):\n",
    "    X_train_scaled, X_test_scaled, X_train, y_train, y_test, X, y = preprocessing()\n",
    "    rf_model = BalancedRandomForestClassifier(n_estimators=100, random_state=1) \n",
    "    rf_model = rf_model.fit(X_train_scaled, y_train)\n",
    "    predictions = rf_model.predict(X_test_scaled)\n",
    "    accuracy_score = balanced_accuracy_score(y_test, predictions)\n",
    "    prediction = rf_model.predict(test)\n",
    "    return prediction, accuracy_score"
   ]
  },
  {
   "cell_type": "code",
   "execution_count": 202,
   "metadata": {},
   "outputs": [],
   "source": [
    "def Easy_Ensemble_Adaboost_Classifier(test):\n",
    "    X_train_scaled, X_test_scaled, X_train, y_train, y_test, X, y = preprocessing()\n",
    "    rf_model = EasyEnsembleClassifier(n_estimators=100, random_state=1) \n",
    "    rf_model = rf_model.fit(X_train_scaled, y_train)\n",
    "    predictions = rf_model.predict(X_test_scaled)\n",
    "    accuracy_score = balanced_accuracy_score(y_test, predictions)\n",
    "    prediction = rf_model.predict(test)\n",
    "    return prediction, accuracy_score\n"
   ]
  },
  {
   "cell_type": "code",
   "execution_count": 203,
   "metadata": {},
   "outputs": [],
   "source": [
    "def test_data():\n",
    "    ticker, algorithm = mongo_connection()\n",
    "    ticker = yf.Ticker(ticker)\n",
    "    test_data = ticker.history(period='1d')\n",
    "    cleaned_test_data = test_data.drop(['Volume', 'Close'], axis=1)\n",
    "    cleaned_test_data['Open'] = le.fit_transform(cleaned_test_data['Open'])\n",
    "    cleaned_test_data['High'] = le.fit_transform(cleaned_test_data['High'])\n",
    "    cleaned_test_data['Low'] = le.fit_transform(cleaned_test_data['Low'])\n",
    "    cleaned_scaled_test_data = scaler.fit_transform(cleaned_test_data)\n",
    "    return cleaned_scaled_test_data"
   ]
  },
  {
   "cell_type": "code",
   "execution_count": 204,
   "metadata": {},
   "outputs": [],
   "source": [
    "def machine_learning():\n",
    "    test = test_data()\n",
    "    ticker, algorithm = mongo_connection()\n",
    "    if algorithm == 'naive':\n",
    "        prediction, accuracy_score = Naive_Random_Oversampling(test)\n",
    "    elif algorithm == 'smote':\n",
    "        prediction, accuracy_score = SMOTE_Oversampling(test)\n",
    "    elif algorithm == 'under':\n",
    "        prediction, accuracy_score = Cluster_Centroids_Undersampling(test)\n",
    "    elif algorithm == 'smoteenn':\n",
    "        prediction, accuracy_score = SMOTE_ENN(test)\n",
    "    elif algorithm == 'balanced':\n",
    "        prediction, accuracy_score = Balanced_Random_Forest_Classifier(test)\n",
    "    elif algorithm == 'easy':\n",
    "        prediction, accuracy_score = Easy_Ensemble_Adaboost_Classifier(test) \n",
    "    loss = 'The closing price will be less than the opening price'\n",
    "    gain = 'The closing price will be greater than the opening price'\n",
    "    direction = loss if prediction == 0 else gain\n",
    "    data = {\"accuracy_score\":accuracy_score, \"ticker\": ticker, \"prediction\": direction}\n",
    "    return data"
   ]
  },
  {
   "cell_type": "code",
   "execution_count": 205,
   "metadata": {},
   "outputs": [
    {
     "data": {
      "text/plain": [
       "{'accuracy_score': 0.7271978021978023,\n",
       " 'ticker': 'msft',\n",
       " 'prediction': 'The closing price will be less than the opening price'}"
      ]
     },
     "execution_count": 205,
     "metadata": {},
     "output_type": "execute_result"
    }
   ],
   "source": [
    "machine_learning()"
   ]
  }
 ],
 "metadata": {
  "interpreter": {
   "hash": "55685f7c140e4d832ec95a8d2263edc288eebc5975bbc524772bac1a0238a896"
  },
  "kernelspec": {
   "display_name": "Python 3.9.12 ('DataScience')",
   "language": "python",
   "name": "python3"
  },
  "language_info": {
   "codemirror_mode": {
    "name": "ipython",
    "version": 3
   },
   "file_extension": ".py",
   "mimetype": "text/x-python",
   "name": "python",
   "nbconvert_exporter": "python",
   "pygments_lexer": "ipython3",
   "version": "3.9.12"
  },
  "orig_nbformat": 4
 },
 "nbformat": 4,
 "nbformat_minor": 2
}
