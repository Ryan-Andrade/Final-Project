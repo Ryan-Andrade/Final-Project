{
 "cells": [
  {
   "cell_type": "code",
   "execution_count": 6,
   "metadata": {},
   "outputs": [],
   "source": [
    "# Dependencies\n",
    "import pandas as pd\n",
    "import numpy as np\n",
    "import yfinance as yf\n",
    "import datetime as dt\n",
    "import pymongo\n",
    "from pymongo import MongoClient"
   ]
  },
  {
   "cell_type": "code",
   "execution_count": 9,
   "metadata": {},
   "outputs": [
    {
     "data": {
      "text/plain": [
       "'CVE'"
      ]
     },
     "execution_count": 9,
     "metadata": {},
     "output_type": "execute_result"
    }
   ],
   "source": [
    "client = MongoClient(\"mongodb://localhost:27017/\")\n",
    "db = client.stock_predictions\n",
    "collection = db.stock_ticker\n",
    "document = collection.find_one()\n",
    "ticker = document['ticker']\n",
    "ticker"
   ]
  },
  {
   "cell_type": "code",
   "execution_count": 15,
   "metadata": {},
   "outputs": [
    {
     "name": "stdout",
     "output_type": "stream",
     "text": [
      "[*********************100%***********************]  1 of 1 completed\n"
     ]
    },
    {
     "data": {
      "text/html": [
       "<div>\n",
       "<style scoped>\n",
       "    .dataframe tbody tr th:only-of-type {\n",
       "        vertical-align: middle;\n",
       "    }\n",
       "\n",
       "    .dataframe tbody tr th {\n",
       "        vertical-align: top;\n",
       "    }\n",
       "\n",
       "    .dataframe thead th {\n",
       "        text-align: right;\n",
       "    }\n",
       "</style>\n",
       "<table border=\"1\" class=\"dataframe\">\n",
       "  <thead>\n",
       "    <tr style=\"text-align: right;\">\n",
       "      <th></th>\n",
       "      <th>Open</th>\n",
       "      <th>High</th>\n",
       "      <th>Low</th>\n",
       "      <th>Day Result</th>\n",
       "    </tr>\n",
       "    <tr>\n",
       "      <th>Date</th>\n",
       "      <th></th>\n",
       "      <th></th>\n",
       "      <th></th>\n",
       "      <th></th>\n",
       "    </tr>\n",
       "  </thead>\n",
       "  <tbody>\n",
       "    <tr>\n",
       "      <th>2021-01-04</th>\n",
       "      <td>6.140000</td>\n",
       "      <td>6.320000</td>\n",
       "      <td>6.110000</td>\n",
       "      <td>1</td>\n",
       "    </tr>\n",
       "    <tr>\n",
       "      <th>2021-01-05</th>\n",
       "      <td>6.300000</td>\n",
       "      <td>6.680000</td>\n",
       "      <td>6.270000</td>\n",
       "      <td>1</td>\n",
       "    </tr>\n",
       "    <tr>\n",
       "      <th>2021-01-06</th>\n",
       "      <td>6.710000</td>\n",
       "      <td>6.820000</td>\n",
       "      <td>6.540000</td>\n",
       "      <td>0</td>\n",
       "    </tr>\n",
       "    <tr>\n",
       "      <th>2021-01-07</th>\n",
       "      <td>6.790000</td>\n",
       "      <td>6.900000</td>\n",
       "      <td>6.710000</td>\n",
       "      <td>1</td>\n",
       "    </tr>\n",
       "    <tr>\n",
       "      <th>2021-01-08</th>\n",
       "      <td>6.900000</td>\n",
       "      <td>6.930000</td>\n",
       "      <td>6.490000</td>\n",
       "      <td>0</td>\n",
       "    </tr>\n",
       "    <tr>\n",
       "      <th>...</th>\n",
       "      <td>...</td>\n",
       "      <td>...</td>\n",
       "      <td>...</td>\n",
       "      <td>...</td>\n",
       "    </tr>\n",
       "    <tr>\n",
       "      <th>2022-05-12</th>\n",
       "      <td>19.110001</td>\n",
       "      <td>19.260000</td>\n",
       "      <td>18.410000</td>\n",
       "      <td>0</td>\n",
       "    </tr>\n",
       "    <tr>\n",
       "      <th>2022-05-13</th>\n",
       "      <td>19.500000</td>\n",
       "      <td>20.290001</td>\n",
       "      <td>19.500000</td>\n",
       "      <td>1</td>\n",
       "    </tr>\n",
       "    <tr>\n",
       "      <th>2022-05-16</th>\n",
       "      <td>20.209999</td>\n",
       "      <td>20.799999</td>\n",
       "      <td>20.209999</td>\n",
       "      <td>1</td>\n",
       "    </tr>\n",
       "    <tr>\n",
       "      <th>2022-05-17</th>\n",
       "      <td>20.959999</td>\n",
       "      <td>21.120001</td>\n",
       "      <td>20.740000</td>\n",
       "      <td>1</td>\n",
       "    </tr>\n",
       "    <tr>\n",
       "      <th>2022-05-18</th>\n",
       "      <td>21.219999</td>\n",
       "      <td>21.250000</td>\n",
       "      <td>20.559999</td>\n",
       "      <td>0</td>\n",
       "    </tr>\n",
       "  </tbody>\n",
       "</table>\n",
       "<p>347 rows × 4 columns</p>\n",
       "</div>"
      ],
      "text/plain": [
       "                 Open       High        Low  Day Result\n",
       "Date                                                   \n",
       "2021-01-04   6.140000   6.320000   6.110000           1\n",
       "2021-01-05   6.300000   6.680000   6.270000           1\n",
       "2021-01-06   6.710000   6.820000   6.540000           0\n",
       "2021-01-07   6.790000   6.900000   6.710000           1\n",
       "2021-01-08   6.900000   6.930000   6.490000           0\n",
       "...               ...        ...        ...         ...\n",
       "2022-05-12  19.110001  19.260000  18.410000           0\n",
       "2022-05-13  19.500000  20.290001  19.500000           1\n",
       "2022-05-16  20.209999  20.799999  20.209999           1\n",
       "2022-05-17  20.959999  21.120001  20.740000           1\n",
       "2022-05-18  21.219999  21.250000  20.559999           0\n",
       "\n",
       "[347 rows x 4 columns]"
      ]
     },
     "execution_count": 15,
     "metadata": {},
     "output_type": "execute_result"
    }
   ],
   "source": [
    "data = yf.download(ticker, '2021-01-01', dt.datetime.date(dt.datetime.now()).isoformat(), interval='1d')\n",
    "data.drop(['Adj Close', 'Volume'], axis=1, inplace=True)    \n",
    "data['Day Result'] = np.where(data['Close'] > data['Open'], 1, 0)\n",
    "df = pd.DataFrame(data)\n",
    "df.drop(columns='Close', inplace=True)\n",
    "df\n",
    "\n"
   ]
  },
  {
   "cell_type": "code",
   "execution_count": null,
   "metadata": {},
   "outputs": [],
   "source": []
  }
 ],
 "metadata": {
  "interpreter": {
   "hash": "86b75c86d87c7ec2a28669fd87f88ef86b909904cca91ef4d6766d0b5a125eee"
  },
  "kernelspec": {
   "display_name": "Python 3.9.12 ('PythonData')",
   "language": "python",
   "name": "python3"
  },
  "language_info": {
   "codemirror_mode": {
    "name": "ipython",
    "version": 3
   },
   "file_extension": ".py",
   "mimetype": "text/x-python",
   "name": "python",
   "nbconvert_exporter": "python",
   "pygments_lexer": "ipython3",
   "version": "3.9.12"
  },
  "orig_nbformat": 4
 },
 "nbformat": 4,
 "nbformat_minor": 2
}
